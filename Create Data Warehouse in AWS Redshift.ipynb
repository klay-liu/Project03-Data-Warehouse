{
 "cells": [
  {
   "cell_type": "code",
   "execution_count": null,
   "metadata": {
    "editable": true
   },
   "outputs": [],
   "source": [
    "import boto3\n",
    "import configparser\n",
    "import pandas as pd\n",
    "from botocore.exceptions import ClientError\n",
    "import json\n",
    "from sql_queries import create_table_queries, drop_table_queries, copy_table_queries, insert_table_queries"
   ]
  },
  {
   "cell_type": "markdown",
   "metadata": {
    "editable": true
   },
   "source": [
    "# 1. Create Redshift Cluster and its dependancies "
   ]
  },
  {
   "cell_type": "markdown",
   "metadata": {
    "editable": true
   },
   "source": [
    "## STEP 0: Make sure you have an AWS secret and access key"
   ]
  },
  {
   "cell_type": "markdown",
   "metadata": {
    "editable": true
   },
   "source": [
    "#### Load DWH Params from a file"
   ]
  },
  {
   "cell_type": "code",
   "execution_count": null,
   "metadata": {
    "editable": true
   },
   "outputs": [],
   "source": [
    "# Read the configured params\n",
    "config = configparser.ConfigParser()\n",
    "config.read('dwh.cfg')\n",
    "\n",
    "# AWS\n",
    "KEY = config.get('AWS', 'KEY')\n",
    "SECRET = config.get('AWS', 'SECRET')\n",
    "\n",
    "# DWH\n",
    "DWH_CLUSTER_TYPE  = config.get('DWH', 'DWH_CLUSTER_TYPE')\n",
    "DWH_NUM_NODES  = config.get('DWH', 'DWH_NUM_NODES')\n",
    "DWH_NODE_TYPE  = config.get('DWH', 'DWH_NODE_TYPE')\n",
    "DWH_CLUSTER_IDENTIFIER  = config.get('DWH', 'DWH_CLUSTER_IDENTIFIER')\n",
    "DWH_DB  = config.get('DWH', 'DWH_DB')\n",
    "DWH_DB_USER  = config.get('DWH', 'DWH_DB_USER')\n",
    "DWH_PASSWORD  = config.get('DWH', 'DWH_PASSWORD')\n",
    "DWH_PORT  = config.get('DWH', 'DWH_PORT')\n",
    "DWH_IAM_ROLE_NAME  = config.get('DWH', 'DWH_IAM_ROLE_NAME')\n",
    "\n",
    "# Print params\n",
    "pd.DataFrame(data = {'Params': ['DWH_CLUSTER_TYPE',\n",
    "                    'DWH_NUM_NODES',\n",
    "                    'DWH_NODE_TYPE',\n",
    "                    'DWH_CLUSTER_IDENTIFIER',\n",
    "                    'DWH_DB',\n",
    "                    'DWH_DB_USER',\n",
    "                    'DWH_PASSWORD',\n",
    "                    'DWH_PORT',\n",
    "                    'DWH_IAM_ROLE_NAME'],\n",
    "                    'Value': [DWH_CLUSTER_TYPE,\n",
    "                            DWH_NUM_NODES,\n",
    "                            DWH_NODE_TYPE,\n",
    "                            DWH_CLUSTER_IDENTIFIER,\n",
    "                            DWH_DB,\n",
    "                            DWH_DB_USER,\n",
    "                            DWH_PASSWORD,\n",
    "                            DWH_PORT,\n",
    "                            DWH_IAM_ROLE_NAME]})"
   ]
  },
  {
   "cell_type": "markdown",
   "metadata": {
    "editable": true
   },
   "source": [
    "#### Create clients for IAM, EC2, S3 and Redshift"
   ]
  },
  {
   "cell_type": "code",
   "execution_count": null,
   "metadata": {
    "editable": true
   },
   "outputs": [],
   "source": [
    "ec2 = boto3.resource('ec2', region_name = 'us-west-2', aws_access_key_id = KEY, aws_secret_access_key = SECRET)\n",
    "\n",
    "s3 = boto3.resource('s3', region_name = 'us-west-2', aws_access_key_id = KEY, aws_secret_access_key = SECRET)\n",
    "\n",
    "iam = boto3.client('iam', region_name = 'us-west-2', aws_access_key_id = KEY, aws_secret_access_key = SECRET)\n",
    "\n",
    "redshift = boto3.client('redshift',\n",
    "                       aws_access_key_id = KEY,\n",
    "                       aws_secret_access_key = SECRET,\n",
    "                       region_name = 'us-west-2')"
   ]
  },
  {
   "cell_type": "markdown",
   "metadata": {
    "editable": true
   },
   "source": [
    "## STEP 1: IAM ROLE\n",
    "- Create an IAM Role that makes Redshift able to access S3 bucket (ReadOnly)"
   ]
  },
  {
   "cell_type": "code",
   "execution_count": null,
   "metadata": {
    "editable": true
   },
   "outputs": [],
   "source": [
    "# - Create an IAM Role that makes Redshift able to access S3 bucket (ReadOnly)\n",
    "try:\n",
    "    print('1.1 Creating a new IAM Role')\n",
    "    dwhRole = iam.create_role(\n",
    "    Path = '/',\n",
    "    RoleName = DWH_IAM_ROLE_NAME,\n",
    "    Description = 'Allows Redshift clusters to call AWS service on your behalf.',\n",
    "    AssumeRolePolicyDocument = json.dumps(\n",
    "                {'Statement': [{'Action': 'sts:AssumeRole',\n",
    "               'Effect': 'Allow',\n",
    "               'Principal': {'Service': 'redshift.amazonaws.com'}}],\n",
    "             'Version': '2012-10-17'})\n",
    "    )\n",
    "except ClientError as e:\n",
    "    print(e)\n",
    "    \n",
    "print('1.2 Attaching Policy')\n",
    "iam.attach_role_policy(RoleName = DWH_IAM_ROLE_NAME,\n",
    "                      PolicyArn = 'arn:aws:iam::aws:policy/AmazonS3ReadOnlyAccess')['ResponseMetadata']['HTTPStatusCode']\n",
    "print('1.3 Get the IAM role ARN')\n",
    "roleArn = iam.get_role(RoleName = DWH_IAM_ROLE_NAME)['Role']['Arn']\n",
    "\n",
    "print(roleArn)"
   ]
  },
  {
   "cell_type": "markdown",
   "metadata": {
    "editable": true
   },
   "source": [
    "## STEP 2:  Redshift Cluster\n",
    "\n",
    "- Create a RedShift Cluster\n",
    "- For complete arguments to `create_cluster`, see [docs](https://boto3.amazonaws.com/v1/documentation/api/latest/reference/services/redshift.html#Redshift.Client.create_cluster)"
   ]
  },
  {
   "cell_type": "code",
   "execution_count": null,
   "metadata": {
    "editable": true
   },
   "outputs": [],
   "source": [
    "# Create a RedShift Cluster\n",
    "try:\n",
    "    response = redshift.create_cluster(\n",
    "        ClusterType = DWH_CLUSTER_TYPE,\n",
    "        NodeType = DWH_NODE_TYPE,\n",
    "        NumberOfNodes = int(DWH_NUM_NODES),\n",
    "        DBName = DWH_DB,\n",
    "        ClusterIdentifier = DWH_CLUSTER_IDENTIFIER,\n",
    "        MasterUsername = DWH_DB_USER,\n",
    "        MasterUserPassword = DWH_PASSWORD,\n",
    "        IamRoles = [roleArn]\n",
    "    )\n",
    "except ClientError as e:\n",
    "    print(e)"
   ]
  },
  {
   "cell_type": "markdown",
   "metadata": {
    "editable": true
   },
   "source": [
    "### 2.1 *Describe* the cluster to see its status\n",
    "- run this block several times until the cluster status becomes `Available`"
   ]
  },
  {
   "cell_type": "code",
   "execution_count": null,
   "metadata": {
    "editable": true
   },
   "outputs": [],
   "source": [
    "def prettyRedshiftProps(props):\n",
    "    pd.set_option('display.max_colwidth', -1)\n",
    "    keysToShow = [\"ClusterIdentifier\", \"NodeType\", \"ClusterStatus\", \"MasterUsername\", \"DBName\", \"Endpoint\", \"NumberOfNodes\", 'VpcId']\n",
    "    x = [(k, v) for k,v in props.items() if k in keysToShow]\n",
    "    return pd.DataFrame(data=x, columns=[\"Key\", \"Value\"])\n",
    "\n",
    "myClusterProps = redshift.describe_clusters(ClusterIdentifier = DWH_CLUSTER_IDENTIFIER)['Clusters'][0]\n",
    "prettyRedshiftProps(myClusterProps)"
   ]
  },
  {
   "cell_type": "markdown",
   "metadata": {
    "editable": true
   },
   "source": [
    "### <h2> 2.2 Take note of the cluster <font color='red'> endpoint and role ARN </font> </h2>\n",
    "\n",
    "<font color='red'>DO NOT RUN THIS unless the cluster status becomes \"Available\" </font>"
   ]
  },
  {
   "cell_type": "code",
   "execution_count": null,
   "metadata": {
    "editable": true
   },
   "outputs": [],
   "source": [
    "# DO NOT RUN THIS unless the cluster status becomes \"Available\"\n",
    "DWH_ENDPOINT = myClusterProps['Endpoint']['Address']\n",
    "DWH_ROLE_ARN = myClusterProps['IamRoles'][0]['IamRoleArn']\n",
    "# print(\"DWH_ENDPOINT :: \", DWH_ENDPOINT)\n",
    "# print(\"DWH_ROLE_ARN :: \", roleArn)"
   ]
  },
  {
   "cell_type": "markdown",
   "metadata": {
    "editable": true
   },
   "source": [
    "### 2.3 Write the params in [CLUSTER], [ARN]\n",
    "- To provide the param for the dwh.dfg"
   ]
  },
  {
   "cell_type": "code",
   "execution_count": null,
   "metadata": {
    "editable": true
   },
   "outputs": [],
   "source": [
    "# remove sections if exists\n",
    "\n",
    "secs = ['CLUSTER', 'IAM_ROLE']\n",
    "for s in secs:\n",
    "    config.remove_section(s)\n",
    "    \n",
    "config.add_section('CLUSTER')\n",
    "config['CLUSTER']['HOST'] = DWH_ENDPOINT\n",
    "config['CLUSTER']['DB_NAME'] = DWH_DB\n",
    "config['CLUSTER']['DB_USER'] = DWH_DB_USER\n",
    "config['CLUSTER']['DB_PASSWORD'] = DWH_PASSWORD\n",
    "config['CLUSTER']['DB_PORT'] = DWH_PORT\n",
    "\n",
    "config.add_section('IAM_ROLE')\n",
    "config['IAM_ROLE']['ARN'] = DWH_ROLE_ARN\n",
    "\n",
    "with open('dwh.cfg', 'w') as configfile:\n",
    "    config.write(configfile)"
   ]
  },
  {
   "cell_type": "markdown",
   "metadata": {
    "editable": true
   },
   "source": [
    "## STEP 3: Open an incoming  TCP port to access the cluster ednpoint"
   ]
  },
  {
   "cell_type": "code",
   "execution_count": null,
   "metadata": {
    "editable": true
   },
   "outputs": [],
   "source": [
    "try:\n",
    "    vpc = ec2.Vpc(id=myClusterProps['VpcId'])\n",
    "    defaultSg = list(vpc.security_groups.all())[0]\n",
    "    print(defaultSg)\n",
    "    defaultSg.authorize_ingress(\n",
    "        GroupName=defaultSg.group_name,\n",
    "        CidrIp='0.0.0.0/0',\n",
    "        IpProtocol='TCP',\n",
    "        FromPort=int(DWH_PORT),\n",
    "        ToPort=int(DWH_PORT)\n",
    "    )\n",
    "except Exception as e:\n",
    "    print(e)"
   ]
  },
  {
   "cell_type": "markdown",
   "metadata": {
    "editable": true
   },
   "source": [
    "## STEP 4: Make sure you can connect to the cluster"
   ]
  },
  {
   "cell_type": "code",
   "execution_count": null,
   "metadata": {
    "editable": true
   },
   "outputs": [],
   "source": [
    "get_ipython().run_line_magic('load_ext', 'sql')\n",
    "conn_string = f'postgresql://{DWH_DB_USER}:{DWH_PASSWORD}@{DWH_ENDPOINT}:{DWH_PORT}/{DWH_DB}'\n",
    "print(conn_string)\n",
    "get_ipython().run_line_magic('sql', '$conn_string')"
   ]
  },
  {
   "cell_type": "markdown",
   "metadata": {
    "editable": true
   },
   "source": [
    "# 2. ETL\n",
    "- 1. Drop Tables if exists\n",
    "- 2. Create Tables\n",
    "- 3. Staging tables\n",
    "- 4. Insert into tables"
   ]
  },
  {
   "cell_type": "code",
   "execution_count": null,
   "metadata": {
    "editable": true
   },
   "outputs": [],
   "source": [
    "def manipulate_tables(table_queries):\n",
    "    for query in table_queries:\n",
    "        get_ipython().run_line_magic('sql', query)\n",
    "# drop tables\n",
    "manipulate_tables(drop_table_queries)\n",
    "# create tables\n",
    "manipulate_tables(create_table_queries)\n",
    "# load_staging_tables\n",
    "manipulate_tables(copy_table_queries)\n",
    "# insert tables\n",
    "manipulate_tables(insert_table_queries)"
   ]
  },
  {
   "cell_type": "markdown",
   "metadata": {
    "editable": true
   },
   "source": [
    "### Check tables"
   ]
  },
  {
   "cell_type": "code",
   "execution_count": null,
   "metadata": {
    "editable": true
   },
   "outputs": [],
   "source": [
    "# get the tables in public schema\n",
    "test_query = \"\"\"\n",
    "select t.table_name\n",
    "from information_schema.tables t\n",
    "where t.table_schema = 'public'  -- put schema name here\n",
    "      and t.table_type = 'BASE TABLE'\n",
    "order by t.table_name;\n",
    "\"\"\"\n",
    "tables = get_ipython().run_line_magic('sql', test_query)"
   ]
  },
  {
   "cell_type": "code",
   "execution_count": null,
   "metadata": {
    "editable": true
   },
   "outputs": [],
   "source": [
    "# check the count for each table\n",
    "for tb in tables:\n",
    "    count = get_ipython().run_line_magic('sql', f'select count(*) as count_in_{tb[0]} from {tb[0]}')\n",
    "    print(count)"
   ]
  },
  {
   "cell_type": "markdown",
   "metadata": {
    "editable": true
   },
   "source": [
    "# 3. Clean up your resources"
   ]
  },
  {
   "cell_type": "code",
   "execution_count": null,
   "metadata": {
    "editable": true
   },
   "outputs": [],
   "source": [
    "# Clean up your resources\n",
    "redshift.delete_cluster(ClusterIdentifier = DWH_CLUSTER_IDENTIFIER, SkipFinalClusterSnapshot = True)\n",
    "\n",
    "# check out whether the cluster really deleted\n",
    "myClusterProps = redshift.describe_clusters(ClusterIdentifier = DWH_CLUSTER_IDENTIFIER)['Clusters'][0]\n",
    "prettyRedshiftProps(myClusterProps)"
   ]
  },
  {
   "cell_type": "code",
   "execution_count": null,
   "metadata": {
    "editable": true
   },
   "outputs": [],
   "source": [
    "iam.detach_role_policy(RoleName = DWH_IAM_ROLE_NAME, PolicyArn = 'arn:aws:iam::aws:policy/AmazonS3ReadOnlyAccess')\n",
    "iam.delete_role(RoleName = DWH_IAM_ROLE_NAME)"
   ]
  },
  {
   "cell_type": "code",
   "execution_count": null,
   "metadata": {
    "editable": true
   },
   "outputs": [],
   "source": [
    "myClusterProps = redshift.describe_clusters(ClusterIdentifier = DWH_CLUSTER_IDENTIFIER)['Clusters'][0]\n",
    "prettyRedshiftProps(myClusterProps)"
   ]
  }
 ],
 "metadata": {
  "kernelspec": {
   "display_name": "Python 3",
   "language": "python",
   "name": "python3"
  },
  "language_info": {
   "codemirror_mode": {
    "name": "ipython",
    "version": 3
   },
   "file_extension": ".py",
   "mimetype": "text/x-python",
   "name": "python",
   "nbconvert_exporter": "python",
   "pygments_lexer": "ipython3",
   "version": "3.6.3"
  }
 },
 "nbformat": 4,
 "nbformat_minor": 4
}
